{
 "cells": [
  {
   "cell_type": "markdown",
   "metadata": {},
   "source": [
    "# Analysis of Sweep Results for Main Paper"
   ]
  },
  {
   "cell_type": "markdown",
   "metadata": {},
   "source": [
    "### Imports:"
   ]
  },
  {
   "cell_type": "code",
   "execution_count": 9,
   "metadata": {},
   "outputs": [],
   "source": [
    "from analysis_utils import rerun_trials, load_checkpoints\n",
    "import numpy as np\n",
    "import torch\n",
    "from torch import nn\n",
    "import neurogym as ngym\n",
    "import matplotlib.pyplot as plt\n",
    "import matplotlib as mpl\n",
    "\n",
    "from IPython.display import Markdown, display\n",
    "def printmd(string):\n",
    "    display(Markdown(f'<h4>{string}</h4>'))\n",
    "\n",
    "def printbigmd(string):\n",
    "    display(Markdown(f'<h2><center style=\"color:red\">{string}</center></h2>'))"
   ]
  },
  {
   "cell_type": "markdown",
   "metadata": {},
   "source": [
    "### Set the root directory of data to analyze. <strong>User should customize:</strong>"
   ]
  },
  {
   "cell_type": "code",
   "execution_count": 2,
   "metadata": {},
   "outputs": [
    {
     "data": {
      "text/markdown": [
       "<h2><center style=\"color:red\">Data root file: /home/ws3/Desktop/james/neurogym/examples/ContextDecisionMaking-v0/</center></h2>"
      ],
      "text/plain": [
       "<IPython.core.display.Markdown object>"
      ]
     },
     "metadata": {},
     "output_type": "display_data"
    }
   ],
   "source": [
    "neurogym_root = '/home/ws3/Desktop/james/neurogym/examples/'\n",
    "task = 'ContextDecisionMaking-v0'\n",
    "root = neurogym_root + task + '/'\n",
    "printbigmd(f'Data root file: {root}')"
   ]
  },
  {
   "cell_type": "code",
   "execution_count": 3,
   "metadata": {},
   "outputs": [
    {
     "data": {
      "text/markdown": [
       "<h2><center style=\"color:red\">100 Checkpoints, over 19800 GD iterations</center></h2>"
      ],
      "text/plain": [
       "<IPython.core.display.Markdown object>"
      ]
     },
     "metadata": {},
     "output_type": "display_data"
    }
   ],
   "source": [
    "checkpoints, GD_iteration = load_checkpoints(root)\n",
    "printbigmd(f'{len(checkpoints)} Checkpoints, over {GD_iteration[-1]} GD iterations')"
   ]
  },
  {
   "cell_type": "markdown",
   "metadata": {},
   "source": [
    "## Analysis Begins..."
   ]
  },
  {
   "cell_type": "markdown",
   "metadata": {},
   "source": [
    "#### Define the task inputs and targets. These will be consistently used for all reruns:"
   ]
  },
  {
   "cell_type": "code",
   "execution_count": 4,
   "metadata": {},
   "outputs": [
    {
     "name": "stderr",
     "output_type": "stream",
     "text": [
      "/home/ws3/anaconda3/envs/james/lib/python3.11/site-packages/gym/utils/passive_env_checker.py:69: UserWarning: \u001b[33mWARN: Agent's minimum action space value is -infinity. This is probably too low.\u001b[0m\n",
      "  logger.warn(\n",
      "/home/ws3/anaconda3/envs/james/lib/python3.11/site-packages/gym/utils/passive_env_checker.py:73: UserWarning: \u001b[33mWARN: Agent's maximum action space value is infinity. This is probably too high\u001b[0m\n",
      "  logger.warn(\n",
      "/home/ws3/anaconda3/envs/james/lib/python3.11/site-packages/gym/utils/passive_env_checker.py:97: UserWarning: \u001b[33mWARN: We recommend you to use a symmetric and normalized Box action space (range=[-1, 1]) https://stable-baselines3.readthedocs.io/en/master/guide/rl_tips.html\u001b[0m\n",
      "  logger.warn(\n"
     ]
    },
    {
     "data": {
      "text/markdown": [
       "<h4>Input size [B, T, n_in]: (256, 100, 7), Target size [B, T, n_out]: (256, 100, 3)</h4>"
      ],
      "text/plain": [
       "<IPython.core.display.Markdown object>"
      ]
     },
     "metadata": {},
     "output_type": "display_data"
    }
   ],
   "source": [
    "kwargs = {'dt': 100}\n",
    "seq_len = 100\n",
    "ntrials = 256\n",
    "dataset = ngym.Dataset(task, env_kwargs=kwargs, batch_size=ntrials, seq_len=seq_len)\n",
    "\n",
    "for i in range(1):\n",
    "    inputs, labels = dataset()\n",
    "    inputs, labels = inputs.swapaxes(0,1), labels.swapaxes(0,1)\n",
    "    targets = nn.functional.one_hot(torch.from_numpy(labels)).numpy()\n",
    "\n",
    "printmd(f'Input size [B, T, n_in]: {inputs.shape}, Target size [B, T, n_out]: {targets.shape}')"
   ]
  },
  {
   "cell_type": "markdown",
   "metadata": {},
   "source": [
    "#### Rerun all checkpoint models on these data:"
   ]
  },
  {
   "cell_type": "code",
   "execution_count": 8,
   "metadata": {},
   "outputs": [
    {
     "name": "stdout",
     "output_type": "stream",
     "text": [
      "Re-evaluating on the Same Data.\n"
     ]
    },
    {
     "name": "stderr",
     "output_type": "stream",
     "text": [
      "/home/ws3/Desktop/james/neurogym/examples/ContextDecisionMaking-v0/checkpoints/checkpoint_19800.pt: 100%|██████████| 100/100 [00:07<00:00, 13.26it/s]\n"
     ]
    },
    {
     "data": {
      "text/markdown": [
       "<h4>zs shape is [checkpoints, trials, timesteps, n_hidden]: (100, 256, 100, 128)</h4>"
      ],
      "text/plain": [
       "<IPython.core.display.Markdown object>"
      ]
     },
     "metadata": {},
     "output_type": "display_data"
    }
   ],
   "source": [
    "zs_all, adjs_all, losses_all = rerun_trials(inputs, targets, checkpoints, compute_adj = True)\n",
    "printmd(f'zs shape is [checkpoints, trials, timesteps, n_hidden]: {zs_all.shape}')"
   ]
  },
  {
   "cell_type": "code",
   "execution_count": null,
   "metadata": {},
   "outputs": [],
   "source": []
  }
 ],
 "metadata": {
  "language_info": {
   "name": "python"
  },
  "orig_nbformat": 4
 },
 "nbformat": 4,
 "nbformat_minor": 2
}
